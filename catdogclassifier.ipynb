{
 "cells": [
  {
   "cell_type": "code",
   "execution_count": 108,
   "metadata": {},
   "outputs": [],
   "source": [
    "%matplotlib inline\n",
    "import numpy as np\n",
    "import matplotlib.pyplot as plt\n",
    "from tensorflow import keras\n",
    "import matplotlib.image as mpimg"
   ]
  },
  {
   "cell_type": "code",
   "execution_count": 109,
   "metadata": {},
   "outputs": [],
   "source": [
    "train_path='./dataset/training_set/'\n",
    "test_path='./dataset/test_set/'"
   ]
  },
  {
   "cell_type": "code",
   "execution_count": 110,
   "metadata": {},
   "outputs": [],
   "source": [
    "from keras.preprocessing.image import ImageDataGenerator as idg\n",
    "from keras.preprocessing import image_dataset_from_directory"
   ]
  },
  {
   "cell_type": "code",
   "execution_count": 175,
   "metadata": {
    "scrolled": true
   },
   "outputs": [
    {
     "name": "stdout",
     "output_type": "stream",
     "text": [
      "Found 6484 images belonging to 2 classes.\n",
      "Found 1621 images belonging to 2 classes.\n",
      "Found 2043 files belonging to 2 classes.\n"
     ]
    }
   ],
   "source": [
    "#load images and data augmentation\n",
    "train_ds=idg(rescale=1./255,horizontal_flip=True,rotation_range=30,zoom_range=0.2,validation_split=0.2)\n",
    "batch_size=32\n",
    "image_size=(64,64)\n",
    "#train_ds=image_dataset_from_directory(train_path,labels=\"inferred\",label_mode='categorical',batch_size=batch_size,image_size=image_size,color_mode=\"rgb\",validation_split=0.1,subset='training',seed=1337)\n",
    "train_it=train_ds.flow_from_directory(train_path,class_mode='categorical',batch_size=batch_size,target_size=image_size,subset='training')\n",
    "val_it=train_ds.flow_from_directory(train_path,class_mode='categorical',batch_size=batch_size,target_size=image_size,subset='validation')\n",
    "#val_ds=image_dataset_from_directory(train_path,labels=\"inferred\",label_mode='categorical',batch_size=batch_size,image_size=image_size,color_mode=\"rgb\",validation_split=0.1,subset='validation',seed=1337)\n",
    "\n",
    "#test iterator\n",
    "test_ds=image_dataset_from_directory(test_path,labels=\"inferred\",label_mode='categorical',image_size=image_size)\n"
   ]
  },
  {
   "cell_type": "code",
   "execution_count": 176,
   "metadata": {
    "scrolled": false
   },
   "outputs": [
    {
     "data": {
      "image/png": "[encoded data removed]",
      "text/plain": [
       "<Figure size 432x288 with 1 Axes>"
      ]
     },
     "metadata": {
      "needs_background": "light"
     },
     "output_type": "display_data"
    }
   ],
   "source": [
    "i=0\n",
    "for arr in train_it:\n",
    "    images=arr[0][0]\n",
    "    plt.imshow(images)\n",
    "    plt.axis(\"off\")\n",
    "    i+=1\n",
    "    if(i>10):\n",
    "        break"
   ]
  },
  {
   "cell_type": "code",
   "execution_count": 177,
   "metadata": {},
   "outputs": [],
   "source": [
    "#model=keras.models.load_model('models/model2')"
   ]
  },
  {
   "cell_type": "code",
   "execution_count": 178,
   "metadata": {},
   "outputs": [],
   "source": [
    "dictionary={1:'Dog',0:'Cat'}"
   ]
  },
  {
   "cell_type": "code",
   "execution_count": 179,
   "metadata": {},
   "outputs": [],
   "source": [
    "#for test data\n",
    "# import random\n",
    "# for images,labels in test_ds.take(1):\n",
    "#     i=random.randint(0,32)\n",
    "#     img=images[i].numpy().astype(\"uint8\")\n",
    "#     plt.imshow(img)\n",
    "#     actual_label=dictionary[np.argmax(labels[i])]\n",
    "#     plt.title(\"Actual Label: \"+actual_label)\n",
    "#     plt.axis(\"off\")\n",
    "#     score=np.argmax(model.predict(img.reshape(1,64,64,3)))\n",
    "#     print(\"Model Says: \"+dictionary[score])"
   ]
  },
  {
   "cell_type": "code",
   "execution_count": 180,
   "metadata": {},
   "outputs": [],
   "source": [
    "from keras import Sequential\n",
    "from keras.optimizers import Adam\n",
    "from keras.layers import Dropout,BatchNormalization,Conv2D,Flatten,MaxPool2D,Dense"
   ]
  },
  {
   "cell_type": "code",
   "execution_count": 181,
   "metadata": {},
   "outputs": [],
   "source": [
    "model=Sequential([\n",
    "    Conv2D(32,kernel_size=(2,2),input_shape=(64,64,3),padding=\"same\",activation='relu'),\n",
    "    MaxPool2D(pool_size=(2, 2), strides=1, padding=\"same\"),\n",
    "    BatchNormalization(),\n",
    "    Conv2D(64,kernel_size=(3,3),activation='relu',padding=\"same\"),\n",
    "    MaxPool2D(pool_size=(2, 2), strides=1, padding=\"same\"),\n",
    "    BatchNormalization(),\n",
    "    Dropout(0.2),\n",
    "    Conv2D(16,kernel_size=(2,2),activation='relu',padding=\"valid\"),\n",
    "    MaxPool2D(pool_size=(2, 2), strides=2, padding=\"valid\"),\n",
    "    BatchNormalization(),\n",
    "    Flatten(),\n",
    "    Dense(64,activation='relu'),\n",
    "    Dense(32,activation='relu'),\n",
    "    Dense(2,activation='softmax')]\n",
    ")"
   ]
  },
  {
   "cell_type": "code",
   "execution_count": 182,
   "metadata": {},
   "outputs": [
    {
     "name": "stdout",
     "output_type": "stream",
     "text": [
      "Model: \"sequential_26\"\n",
      "_________________________________________________________________\n",
      "Layer (type)                 Output Shape              Param #   \n",
      "=================================================================\n",
      "conv2d_61 (Conv2D)           (None, 64, 64, 32)        416       \n",
      "_________________________________________________________________\n",
      "max_pooling2d_61 (MaxPooling (None, 64, 64, 32)        0         \n",
      "_________________________________________________________________\n",
      "batch_normalization_61 (Batc (None, 64, 64, 32)        128       \n",
      "_________________________________________________________________\n",
      "conv2d_62 (Conv2D)           (None, 64, 64, 64)        18496     \n",
      "_________________________________________________________________\n",
      "max_pooling2d_62 (MaxPooling (None, 64, 64, 64)        0         \n",
      "_________________________________________________________________\n",
      "batch_normalization_62 (Batc (None, 64, 64, 64)        256       \n",
      "_________________________________________________________________\n",
      "dropout_50 (Dropout)         (None, 64, 64, 64)        0         \n",
      "_________________________________________________________________\n",
      "conv2d_63 (Conv2D)           (None, 63, 63, 16)        4112      \n",
      "_________________________________________________________________\n",
      "max_pooling2d_63 (MaxPooling (None, 31, 31, 16)        0         \n",
      "_________________________________________________________________\n",
      "batch_normalization_63 (Batc (None, 31, 31, 16)        64        \n",
      "_________________________________________________________________\n",
      "flatten_26 (Flatten)         (None, 15376)             0         \n",
      "_________________________________________________________________\n",
      "dense_66 (Dense)             (None, 64)                984128    \n",
      "_________________________________________________________________\n",
      "dense_67 (Dense)             (None, 32)                2080      \n",
      "_________________________________________________________________\n",
      "dense_68 (Dense)             (None, 2)                 66        \n",
      "=================================================================\n",
      "Total params: 1,009,746\n",
      "Trainable params: 1,009,522\n",
      "Non-trainable params: 224\n",
      "_________________________________________________________________\n"
     ]
    }
   ],
   "source": [
    "model.summary()"
   ]
  },
  {
   "cell_type": "code",
   "execution_count": 183,
   "metadata": {},
   "outputs": [],
   "source": [
    "model.compile(loss='categorical_crossentropy',optimizer='adam',metrics=['accuracy'])"
   ]
  },
  {
   "cell_type": "code",
   "execution_count": 184,
   "metadata": {},
   "outputs": [
    {
     "name": "stdout",
     "output_type": "stream",
     "text": [
      "Epoch 1/50\n",
      "203/203 [==============================] - 342s 2s/step - loss: 0.7947 - accuracy: 0.5700 - val_loss: 1.2081 - val_accuracy: 0.5065\n",
      "Epoch 2/50\n",
      "203/203 [==============================] - 367s 2s/step - loss: 0.6186 - accuracy: 0.6583 - val_loss: 0.6741 - val_accuracy: 0.5910\n",
      "Epoch 3/50\n",
      "203/203 [==============================] - 376s 2s/step - loss: 0.5708 - accuracy: 0.7041 - val_loss: 0.5843 - val_accuracy: 0.6854\n",
      "Epoch 4/50\n",
      "203/203 [==============================] - 377s 2s/step - loss: 0.5424 - accuracy: 0.7196 - val_loss: 0.5812 - val_accuracy: 0.6885\n",
      "Epoch 5/50\n",
      "203/203 [==============================] - 382s 2s/step - loss: 0.5222 - accuracy: 0.7401 - val_loss: 0.5520 - val_accuracy: 0.7187\n",
      "Epoch 6/50\n",
      "203/203 [==============================] - 382s 2s/step - loss: 0.5048 - accuracy: 0.7456 - val_loss: 0.5267 - val_accuracy: 0.7458\n",
      "Epoch 7/50\n",
      "203/203 [==============================] - 379s 2s/step - loss: 0.4992 - accuracy: 0.7463 - val_loss: 0.5219 - val_accuracy: 0.7397\n",
      "Epoch 8/50\n",
      "203/203 [==============================] - 387s 2s/step - loss: 0.4738 - accuracy: 0.7717 - val_loss: 0.5002 - val_accuracy: 0.7434\n",
      "Epoch 9/50\n",
      "203/203 [==============================] - 387s 2s/step - loss: 0.4450 - accuracy: 0.7859 - val_loss: 0.4993 - val_accuracy: 0.7502\n",
      "Epoch 10/50\n",
      "203/203 [==============================] - 387s 2s/step - loss: 0.4500 - accuracy: 0.7890 - val_loss: 0.5011 - val_accuracy: 0.7588\n",
      "Epoch 11/50\n",
      "203/203 [==============================] - 386s 2s/step - loss: 0.4341 - accuracy: 0.7950 - val_loss: 0.4765 - val_accuracy: 0.7656\n",
      "Epoch 12/50\n",
      "203/203 [==============================] - 386s 2s/step - loss: 0.4211 - accuracy: 0.8060 - val_loss: 0.5212 - val_accuracy: 0.7563\n",
      "Epoch 13/50\n",
      "203/203 [==============================] - 384s 2s/step - loss: 0.4311 - accuracy: 0.7996 - val_loss: 0.6822 - val_accuracy: 0.6848\n",
      "Epoch 14/50\n",
      "203/203 [==============================] - 386s 2s/step - loss: 0.4140 - accuracy: 0.8055 - val_loss: 0.5042 - val_accuracy: 0.7458\n",
      "Epoch 15/50\n",
      "203/203 [==============================] - 385s 2s/step - loss: 0.4197 - accuracy: 0.8100 - val_loss: 0.5748 - val_accuracy: 0.7057\n",
      "Epoch 16/50\n",
      "203/203 [==============================] - 390s 2s/step - loss: 0.3955 - accuracy: 0.8239 - val_loss: 0.4678 - val_accuracy: 0.7724\n",
      "Epoch 17/50\n",
      "203/203 [==============================] - 387s 2s/step - loss: 0.3830 - accuracy: 0.8269 - val_loss: 0.5057 - val_accuracy: 0.7656\n",
      "Epoch 18/50\n",
      "203/203 [==============================] - 387s 2s/step - loss: 0.3888 - accuracy: 0.8186 - val_loss: 0.4419 - val_accuracy: 0.7933\n",
      "Epoch 19/50\n",
      "203/203 [==============================] - 384s 2s/step - loss: 0.3811 - accuracy: 0.8299 - val_loss: 0.4781 - val_accuracy: 0.7711\n",
      "Epoch 20/50\n",
      "203/203 [==============================] - 378s 2s/step - loss: 0.3599 - accuracy: 0.8382 - val_loss: 0.4502 - val_accuracy: 0.7878\n",
      "Epoch 21/50\n",
      "203/203 [==============================] - 379s 2s/step - loss: 0.3597 - accuracy: 0.8344 - val_loss: 0.5266 - val_accuracy: 0.7532\n",
      "Epoch 22/50\n",
      "203/203 [==============================] - 392s 2s/step - loss: 0.3556 - accuracy: 0.8357 - val_loss: 0.4918 - val_accuracy: 0.7711\n",
      "Epoch 23/50\n",
      "203/203 [==============================] - 399s 2s/step - loss: 0.3497 - accuracy: 0.8426 - val_loss: 0.5666 - val_accuracy: 0.7403\n",
      "Epoch 24/50\n",
      "203/203 [==============================] - 394s 2s/step - loss: 0.3445 - accuracy: 0.8454 - val_loss: 0.4897 - val_accuracy: 0.7761\n",
      "Epoch 25/50\n",
      "203/203 [==============================] - 391s 2s/step - loss: 0.3467 - accuracy: 0.8380 - val_loss: 0.4923 - val_accuracy: 0.7699\n",
      "Epoch 26/50\n",
      "203/203 [==============================] - 385s 2s/step - loss: 0.3412 - accuracy: 0.8510 - val_loss: 0.4213 - val_accuracy: 0.8149\n",
      "Epoch 27/50\n",
      "203/203 [==============================] - 390s 2s/step - loss: 0.3126 - accuracy: 0.8606 - val_loss: 0.4751 - val_accuracy: 0.7736\n",
      "Epoch 28/50\n",
      "203/203 [==============================] - 414s 2s/step - loss: 0.3297 - accuracy: 0.8554 - val_loss: 0.4260 - val_accuracy: 0.7989\n",
      "Epoch 29/50\n",
      "203/203 [==============================] - 421s 2s/step - loss: 0.3177 - accuracy: 0.8582 - val_loss: 0.6629 - val_accuracy: 0.7076\n",
      "Epoch 30/50\n",
      "203/203 [==============================] - 423s 2s/step - loss: 0.2994 - accuracy: 0.8653 - val_loss: 0.4511 - val_accuracy: 0.7952\n",
      "Epoch 31/50\n",
      "203/203 [==============================] - 410s 2s/step - loss: 0.3070 - accuracy: 0.8697 - val_loss: 0.6003 - val_accuracy: 0.7477\n",
      "Epoch 32/50\n",
      "203/203 [==============================] - 401s 2s/step - loss: 0.2916 - accuracy: 0.8691 - val_loss: 0.4835 - val_accuracy: 0.7748\n",
      "Epoch 33/50\n",
      "203/203 [==============================] - 416s 2s/step - loss: 0.2938 - accuracy: 0.8700 - val_loss: 0.4652 - val_accuracy: 0.7847\n",
      "Epoch 34/50\n",
      "203/203 [==============================] - 414s 2s/step - loss: 0.2935 - accuracy: 0.8771 - val_loss: 0.5153 - val_accuracy: 0.7625\n",
      "Epoch 35/50\n",
      "203/203 [==============================] - 412s 2s/step - loss: 0.2836 - accuracy: 0.8731 - val_loss: 0.4605 - val_accuracy: 0.8162\n",
      "Epoch 36/50\n",
      "203/203 [==============================] - 414s 2s/step - loss: 0.2680 - accuracy: 0.8897 - val_loss: 0.4530 - val_accuracy: 0.7909\n",
      "Epoch 37/50\n",
      "203/203 [==============================] - 462s 2s/step - loss: 0.2686 - accuracy: 0.8896 - val_loss: 0.5452 - val_accuracy: 0.7650\n",
      "Epoch 38/50\n",
      "203/203 [==============================] - 463s 2s/step - loss: 0.2814 - accuracy: 0.8797 - val_loss: 0.4996 - val_accuracy: 0.7896\n",
      "Epoch 39/50\n",
      "203/203 [==============================] - 444s 2s/step - loss: 0.2731 - accuracy: 0.8829 - val_loss: 0.4571 - val_accuracy: 0.7940\n",
      "Epoch 40/50\n",
      "203/203 [==============================] - 413s 2s/step - loss: 0.2466 - accuracy: 0.8963 - val_loss: 0.7560 - val_accuracy: 0.7316\n",
      "Epoch 41/50\n",
      "203/203 [==============================] - 388s 2s/step - loss: 0.2497 - accuracy: 0.8969 - val_loss: 0.5841 - val_accuracy: 0.7662\n",
      "Epoch 42/50\n",
      "203/203 [==============================] - 394s 2s/step - loss: 0.2503 - accuracy: 0.8976 - val_loss: 0.5355 - val_accuracy: 0.7613\n",
      "Epoch 43/50\n",
      "203/203 [==============================] - 434s 2s/step - loss: 0.2448 - accuracy: 0.8945 - val_loss: 0.4673 - val_accuracy: 0.8007\n",
      "Epoch 44/50\n",
      "203/203 [==============================] - 427s 2s/step - loss: 0.2480 - accuracy: 0.8982 - val_loss: 0.4540 - val_accuracy: 0.8038\n",
      "Epoch 45/50\n",
      "203/203 [==============================] - 429s 2s/step - loss: 0.2415 - accuracy: 0.9043 - val_loss: 0.4894 - val_accuracy: 0.7958\n",
      "Epoch 46/50\n",
      "203/203 [==============================] - 432s 2s/step - loss: 0.2371 - accuracy: 0.8966 - val_loss: 0.4968 - val_accuracy: 0.7866\n",
      "Epoch 47/50\n",
      "203/203 [==============================] - 391s 2s/step - loss: 0.2248 - accuracy: 0.9111 - val_loss: 0.5049 - val_accuracy: 0.7952\n",
      "Epoch 48/50\n",
      "203/203 [==============================] - 389s 2s/step - loss: 0.2167 - accuracy: 0.9052 - val_loss: 0.4820 - val_accuracy: 0.8020\n",
      "Epoch 49/50\n",
      "203/203 [==============================] - 389s 2s/step - loss: 0.2226 - accuracy: 0.9084 - val_loss: 1.0756 - val_accuracy: 0.6718\n",
      "Epoch 50/50\n",
      "203/203 [==============================] - 387s 2s/step - loss: 0.2349 - accuracy: 0.9009 - val_loss: 0.4831 - val_accuracy: 0.8137\n"
     ]
    },
    {
     "data": {
      "text/plain": [
       "<tensorflow.python.keras.callbacks.History at 0x25125370>"
      ]
     },
     "execution_count": 184,
     "metadata": {},
     "output_type": "execute_result"
    }
   ],
   "source": [
    "model.fit(train_it,validation_data=val_it,epochs=50,verbose=1)"
   ]
  },
  {
   "cell_type": "code",
   "execution_count": 185,
   "metadata": {
    "scrolled": true
   },
   "outputs": [
    {
     "name": "stdout",
     "output_type": "stream",
     "text": [
      "INFO:tensorflow:Assets written to: models/model3\\assets\n"
     ]
    }
   ],
   "source": [
    "model.save('models/model3')"
   ]
  },
  {
   "cell_type": "code",
   "execution_count": 190,
   "metadata": {},
   "outputs": [
    {
     "name": "stdout",
     "output_type": "stream",
     "text": [
      "Model Says: Dog\n"
     ]
    },
    {
     "data": {
      "image/png": "[encoded data removed]",
      "text/plain": [
       "<Figure size 432x288 with 1 Axes>"
      ]
     },
     "metadata": {
      "needs_background": "light"
     },
     "output_type": "display_data"
    }
   ],
   "source": [
    "#for test data\n",
    "import random\n",
    "for images,labels in test_ds.take(1):\n",
    "    i=random.randint(0,32)\n",
    "    img=images[i].numpy().astype(\"uint8\")\n",
    "    plt.imshow(img)\n",
    "    actual_label=dictionary[np.argmax(labels[i])]\n",
    "    plt.title(\"Actual Label: \"+actual_label)\n",
    "    plt.axis(\"off\")\n",
    "    score=np.argmax(model.predict(img.reshape(1,64,64,3)))\n",
    "    print(\"Model Says: \"+dictionary[score])"
   ]
  },
  {
   "cell_type": "code",
   "execution_count": null,
   "metadata": {},
   "outputs": [],
   "source": []
  },
  {
   "cell_type": "code",
   "execution_count": null,
   "metadata": {},
   "outputs": [],
   "source": []
  }
 ],
 "metadata": {
  "kernelspec": {
   "display_name": "Python 3",
   "language": "python",
   "name": "python3"
  },
  "language_info": {
   "codemirror_mode": {
    "name": "ipython",
    "version": 3
   },
   "file_extension": ".py",
   "mimetype": "text/x-python",
   "name": "python",
   "nbconvert_exporter": "python",
   "pygments_lexer": "ipython3",
   "version": "3.8.5"
  }
 },
 "nbformat": 4,
 "nbformat_minor": 5
}
